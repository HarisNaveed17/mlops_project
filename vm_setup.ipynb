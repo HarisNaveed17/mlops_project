{
 "cells": [
  {
   "cell_type": "code",
   "execution_count": null,
   "id": "149a3f37-7ffd-4bfa-96d9-862648077ba3",
   "metadata": {},
   "outputs": [],
   "source": [
    "from chi import server, context\n",
    "\n",
    "context.version = \"1.0\" \n",
    "context.choose_project()\n",
    "context.choose_site(default=\"KVM@TACC\")\n",
    "\n",
    "server.update_keypair()"
   ]
  },
  {
   "cell_type": "code",
   "execution_count": null,
   "id": "55cee2bc-3887-4b4f-8d0a-3df0a5bfd2ba",
   "metadata": {},
   "outputs": [],
   "source": [
    "export OS_AUTH_URL=https://kvm.tacc.chameleoncloud.org:5000/v3\n",
    "export OS_PROJECT_NAME=\"CHI-251409\"\n",
    "export OS_REGION_NAME=\"KVM@TACC\""
   ]
  },
  {
   "cell_type": "code",
   "execution_count": null,
   "id": "9b602607-a916-4a31-b0e9-8cef2ebdb3c7",
   "metadata": {},
   "outputs": [],
   "source": [
    "openstack network list | grep project2"
   ]
  },
  {
   "cell_type": "code",
   "execution_count": null,
   "id": "b0f45ef7-7415-4f81-9fc4-edf7df13cca8",
   "metadata": {},
   "outputs": [],
   "source": [
    "openstack network show private_cloud_net_project2"
   ]
  },
  {
   "cell_type": "code",
   "execution_count": null,
   "id": "b9df217e-38cf-4a97-8bc1-c0dfa9cf9fe1",
   "metadata": {},
   "outputs": [],
   "source": [
    "openstack subnet list | grep project2"
   ]
  },
  {
   "cell_type": "code",
   "execution_count": null,
   "id": "789025ba-15a5-4aed-878b-32646d2affff",
   "metadata": {},
   "outputs": [],
   "source": [
    "openstack subnet show private_subnet_mlops_project2"
   ]
  },
  {
   "cell_type": "code",
   "execution_count": null,
   "id": "98591362-d765-42eb-9e16-dc67b8c67eb4",
   "metadata": {},
   "outputs": [],
   "source": [
    "openstack port create -h"
   ]
  },
  {
   "cell_type": "code",
   "execution_count": null,
   "id": "af33da88-de60-48c2-a94e-fc051ff1019b",
   "metadata": {},
   "outputs": [],
   "source": [
    "openstack port create \\\n",
    "    --network private_cloud_net_project2 \\\n",
    "     --fixed-ip subnet=private_subnet_mlops_project2,ip-address=192.168.1.12 \\\n",
    "     --disable-port-security \\\n",
    "     port2_project2"
   ]
  },
  {
   "cell_type": "code",
   "execution_count": null,
   "id": "f7e91517-6bc6-4fc4-b9eb-79910d60c7a8",
   "metadata": {},
   "outputs": [],
   "source": [
    "openstack port create \\\n",
    "    --network private_cloud_net_project2 \\\n",
    "     --fixed-ip subnet=private_subnet_mlops_project2,ip-address=192.168.1.13 \\\n",
    "     --disable-port-security \\\n",
    "     port3_project2"
   ]
  },
  {
   "cell_type": "code",
   "execution_count": null,
   "id": "0d187485-f99d-4429-a9fb-0ca8c6aea328",
   "metadata": {},
   "outputs": [],
   "source": [
    "openstack port list --network private_cloud_net_project2"
   ]
  },
  {
   "cell_type": "code",
   "execution_count": null,
   "id": "d31f647c-662e-462a-a344-5f359bc9f141",
   "metadata": {},
   "outputs": [],
   "source": [
    "openstack server list --name \"project2\" #I made node-persist-mlops-project2"
   ]
  },
  {
   "cell_type": "code",
   "execution_count": null,
   "id": "c3ba8c82-4078-4ed6-a426-e2d658af0149",
   "metadata": {},
   "outputs": [],
   "source": [
    "openstack image list --limit 5"
   ]
  },
  {
   "cell_type": "code",
   "execution_count": null,
   "id": "771c1859-79e5-4a8c-97d7-dbb013109e4b",
   "metadata": {},
   "outputs": [],
   "source": [
    "openstack keypair list"
   ]
  },
  {
   "cell_type": "code",
   "execution_count": null,
   "id": "47f9fc52-d52f-4474-9e4e-77c60fc70b98",
   "metadata": {},
   "outputs": [],
   "source": [
    "openstack server create \\\n",
    "  --image \"CC-Ubuntu24.04\" \\\n",
    "  --flavor m1.medium \\\n",
    "  --network sharednet1 \\\n",
    "  --port port2_project2 \\\n",
    "  --security-group default \\\n",
    "  --security-group allow-ssh \\\n",
    "  --security-group allow-http-80 \\\n",
    "  --key-name id_rsa_mlops_proj \\\n",
    "  --user-data config-hosts.yaml \\\n",
    "  node2-cloud-project2"
   ]
  },
  {
   "cell_type": "code",
   "execution_count": null,
   "id": "8f0dd03e-afd5-43ff-89f5-49ff2bf1c688",
   "metadata": {},
   "outputs": [],
   "source": [
    "openstack server create \\\n",
    "  --image \"CC-Ubuntu24.04\" \\\n",
    "  --flavor m1.medium \\\n",
    "  --network sharednet1 \\\n",
    "  --port port3_project2 \\\n",
    "  --security-group default \\\n",
    "  --security-group allow-ssh \\\n",
    "  --security-group allow-http-80 \\\n",
    "  --key-name id_rsa_mlops_proj \\\n",
    "  --user-data config-hosts.yaml \\\n",
    "  node3-cloud-project2"
   ]
  },
  {
   "cell_type": "code",
   "execution_count": null,
   "id": "30621b90-43aa-4bc0-9491-647670b10d10",
   "metadata": {},
   "outputs": [],
   "source": [
    "openstack server list --name \"project2\""
   ]
  }
 ],
 "metadata": {
  "kernelspec": {
   "display_name": "Python 3 (ipykernel)",
   "language": "python",
   "name": "python3"
  },
  "language_info": {
   "codemirror_mode": {
    "name": "ipython",
    "version": 3
   },
   "file_extension": ".py",
   "mimetype": "text/x-python",
   "name": "python",
   "nbconvert_exporter": "python",
   "pygments_lexer": "ipython3",
   "version": "3.11.7"
  }
 },
 "nbformat": 4,
 "nbformat_minor": 5
}
