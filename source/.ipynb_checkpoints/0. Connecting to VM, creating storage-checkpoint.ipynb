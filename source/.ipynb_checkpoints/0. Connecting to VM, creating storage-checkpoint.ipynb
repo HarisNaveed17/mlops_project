{
 "cells": [
  {
   "cell_type": "markdown",
   "id": "ca0c7d46-c0da-43b4-9707-5cd2da594241",
   "metadata": {},
   "source": [
    "# Connecting to VM"
   ]
  },
  {
   "cell_type": "code",
   "execution_count": 16,
   "id": "5a65f548-cdc4-411b-a296-8b9a056f2512",
   "metadata": {
    "tags": []
   },
   "outputs": [
    {
     "data": {
      "application/vnd.jupyter.widget-view+json": {
       "model_id": "af8ddeb24bc249f6b0774f4e2065a370",
       "version_major": 2,
       "version_minor": 0
      },
      "text/plain": [
       "VBox(children=(Dropdown(description='Select Project', options=('CHI-251409',), value='CHI-251409'), Output()))"
      ]
     },
     "metadata": {},
     "output_type": "display_data"
    },
    {
     "data": {
      "application/vnd.jupyter.widget-view+json": {
       "model_id": "246a6b5455f648c5b2a75fc0b4739693",
       "version_major": 2,
       "version_minor": 0
      },
      "text/plain": [
       "VBox(children=(Dropdown(description='Select Site', index=7, options=('CHI@TACC', 'CHI@UC', 'CHI@EVL', 'CHI@NCA…"
      ]
     },
     "metadata": {},
     "output_type": "display_data"
    }
   ],
   "source": [
    "from chi import server, storage, context\n",
    "import chi, os, time, datetime\n",
    "\n",
    "context.version = \"1.0\" \n",
    "context.choose_project()\n",
    "context.choose_site(default=\"KVM@TACC\")"
   ]
  },
  {
   "cell_type": "code",
   "execution_count": 5,
   "id": "7b0ae7c2-708b-42fb-bfb7-8c207c13ae74",
   "metadata": {
    "tags": []
   },
   "outputs": [
    {
     "name": "stdout",
     "output_type": "stream",
     "text": [
      "Waiting for server node-persist-mlops-project3's status to become ACTIVE. This typically takes 10 minutes, but can take up to 20 minutes.\n"
     ]
    },
    {
     "data": {
      "application/vnd.jupyter.widget-view+json": {
       "model_id": "d1bb23fe8aef4ce5874628756661123f",
       "version_major": 2,
       "version_minor": 0
      },
      "text/plain": [
       "HBox(children=(Label(value=''), IntProgress(value=0, bar_style='success')))"
      ]
     },
     "metadata": {},
     "output_type": "display_data"
    },
    {
     "name": "stdout",
     "output_type": "stream",
     "text": [
      "Server has moved to status ACTIVE\n"
     ]
    },
    {
     "data": {
      "text/html": [
       "<table style='border-collapse: collapse; width: 100%;'><tr style='background-color: #f2f2f2;'><th style='border: 1px solid #ddd; padding: 8px;'>Attribute</th><th style='border: 1px solid #ddd; padding: 8px;'>node-persist-mlops-project3</th></tr><tr><td style='border: 1px solid #ddd; padding: 8px;'>Id</td><td style='border: 1px solid #ddd; padding: 8px;'>15d597b7-0a7f-4d02-b3e5-3d394bc9d35e</td></tr><tr><td style='border: 1px solid #ddd; padding: 8px;'>Status</td><td style='border: 1px solid #ddd; padding: 8px;'>ACTIVE</td></tr><tr><td style='border: 1px solid #ddd; padding: 8px;'>Image Name</td><td style='border: 1px solid #ddd; padding: 8px;'>CC-Ubuntu24.04</td></tr><tr><td style='border: 1px solid #ddd; padding: 8px;'>Flavor Name</td><td style='border: 1px solid #ddd; padding: 8px;'>m1.medium</td></tr><tr><td style='border: 1px solid #ddd; padding: 8px;'>Addresses</td><td style='border: 1px solid #ddd; padding: 8px;'><strong>sharednet1:</strong><br>&nbsp;&nbsp;IP: 10.56.2.13 (v4)<br>&nbsp;&nbsp;Type: fixed<br>&nbsp;&nbsp;MAC: fa:16:3e:02:6f:c8<br></td></tr><tr><td style='border: 1px solid #ddd; padding: 8px;'>Network Name</td><td style='border: 1px solid #ddd; padding: 8px;'>sharednet1</td></tr><tr><td style='border: 1px solid #ddd; padding: 8px;'>Created At</td><td style='border: 1px solid #ddd; padding: 8px;'>2025-05-06T17:07:17Z</td></tr><tr><td style='border: 1px solid #ddd; padding: 8px;'>Keypair</td><td style='border: 1px solid #ddd; padding: 8px;'>mks9887_nyu_edu-jupyter</td></tr><tr><td style='border: 1px solid #ddd; padding: 8px;'>Reservation Id</td><td style='border: 1px solid #ddd; padding: 8px;'>None</td></tr><tr><td style='border: 1px solid #ddd; padding: 8px;'>Host Id</td><td style='border: 1px solid #ddd; padding: 8px;'>9abd0fcf997448dad4c5ec3838c61c0f8179932e11a373ebbccd1d33</td></tr><tr><td style='border: 1px solid #ddd; padding: 8px;'>Host Status</td><td style='border: 1px solid #ddd; padding: 8px;'>None</td></tr><tr><td style='border: 1px solid #ddd; padding: 8px;'>Hypervisor Hostname</td><td style='border: 1px solid #ddd; padding: 8px;'>None</td></tr><tr><td style='border: 1px solid #ddd; padding: 8px;'>Is Locked</td><td style='border: 1px solid #ddd; padding: 8px;'>False</td></tr></table>"
      ],
      "text/plain": [
       "<IPython.core.display.HTML object>"
      ]
     },
     "metadata": {},
     "output_type": "display_data"
    }
   ],
   "source": [
    "username = os.getenv('USER') # all exp resources will have this prefix\n",
    "s = server.Server(\n",
    "    f\"node-persist-mlops-project3\", \n",
    "    image_name=\"CC-Ubuntu24.04\",\n",
    "    flavor_name=\"m1.medium\",\n",
    ")\n",
    "s.submit(idempotent=True)"
   ]
  },
  {
   "cell_type": "code",
   "execution_count": 6,
   "id": "f17d704b-ff1f-45af-b6b8-e702e73e855c",
   "metadata": {
    "tags": []
   },
   "outputs": [],
   "source": [
    "s.associate_floating_ip()"
   ]
  },
  {
   "cell_type": "code",
   "execution_count": 7,
   "id": "36c197c5-c223-4349-88a7-a4a9d6e88921",
   "metadata": {
    "tags": []
   },
   "outputs": [
    {
     "data": {
      "text/html": [
       "<table style='border-collapse: collapse; width: 100%;'><tr style='background-color: #f2f2f2;'><th style='border: 1px solid #ddd; padding: 8px;'>Attribute</th><th style='border: 1px solid #ddd; padding: 8px;'>node-persist-mlops-project3</th></tr><tr><td style='border: 1px solid #ddd; padding: 8px;'>Id</td><td style='border: 1px solid #ddd; padding: 8px;'>15d597b7-0a7f-4d02-b3e5-3d394bc9d35e</td></tr><tr><td style='border: 1px solid #ddd; padding: 8px;'>Status</td><td style='border: 1px solid #ddd; padding: 8px;'>ACTIVE</td></tr><tr><td style='border: 1px solid #ddd; padding: 8px;'>Image Name</td><td style='border: 1px solid #ddd; padding: 8px;'>CC-Ubuntu24.04</td></tr><tr><td style='border: 1px solid #ddd; padding: 8px;'>Flavor Name</td><td style='border: 1px solid #ddd; padding: 8px;'>m1.medium</td></tr><tr><td style='border: 1px solid #ddd; padding: 8px;'>Addresses</td><td style='border: 1px solid #ddd; padding: 8px;'><strong>sharednet1:</strong><br>&nbsp;&nbsp;IP: 10.56.2.13 (v4)<br>&nbsp;&nbsp;Type: fixed<br>&nbsp;&nbsp;MAC: fa:16:3e:02:6f:c8<br>&nbsp;&nbsp;IP: 129.114.26.204 (v4)<br>&nbsp;&nbsp;Type: floating<br>&nbsp;&nbsp;MAC: fa:16:3e:02:6f:c8<br></td></tr><tr><td style='border: 1px solid #ddd; padding: 8px;'>Network Name</td><td style='border: 1px solid #ddd; padding: 8px;'>sharednet1</td></tr><tr><td style='border: 1px solid #ddd; padding: 8px;'>Created At</td><td style='border: 1px solid #ddd; padding: 8px;'>2025-05-06T17:07:17Z</td></tr><tr><td style='border: 1px solid #ddd; padding: 8px;'>Keypair</td><td style='border: 1px solid #ddd; padding: 8px;'>mks9887_nyu_edu-jupyter</td></tr><tr><td style='border: 1px solid #ddd; padding: 8px;'>Reservation Id</td><td style='border: 1px solid #ddd; padding: 8px;'>None</td></tr><tr><td style='border: 1px solid #ddd; padding: 8px;'>Host Id</td><td style='border: 1px solid #ddd; padding: 8px;'>9abd0fcf997448dad4c5ec3838c61c0f8179932e11a373ebbccd1d33</td></tr><tr><td style='border: 1px solid #ddd; padding: 8px;'>Host Status</td><td style='border: 1px solid #ddd; padding: 8px;'>None</td></tr><tr><td style='border: 1px solid #ddd; padding: 8px;'>Hypervisor Hostname</td><td style='border: 1px solid #ddd; padding: 8px;'>None</td></tr><tr><td style='border: 1px solid #ddd; padding: 8px;'>Is Locked</td><td style='border: 1px solid #ddd; padding: 8px;'>False</td></tr></table>"
      ],
      "text/plain": [
       "<IPython.core.display.HTML object>"
      ]
     },
     "metadata": {},
     "output_type": "display_data"
    }
   ],
   "source": [
    "s.refresh()\n",
    "s.show(type=\"widget\")"
   ]
  },
  {
   "cell_type": "code",
   "execution_count": 8,
   "id": "381dec2b-3001-41b7-960c-340061fbb55e",
   "metadata": {
    "tags": []
   },
   "outputs": [],
   "source": [
    "security_groups = [\n",
    "  {'name': \"allow-ssh\", 'port': 22, 'description': \"Enable SSH traffic on TCP port 22\"},\n",
    "  {'name': \"allow-8888\", 'port': 8888, 'description': \"Enable TCP port 8888 (used by Jupyter)\"},\n",
    "  {'name': \"allow-8000\", 'port': 8000, 'description': \"Enable TCP port 8000 (used by MLFlow)\"},\n",
    "  {'name': \"allow-9000\", 'port': 9000, 'description': \"Enable TCP port 9000 (used by MinIO API)\"},\n",
    "  {'name': \"allow-9001\", 'port': 9001, 'description': \"Enable TCP port 9001 (used by MinIO Web UI)\"}\n",
    "]"
   ]
  },
  {
   "cell_type": "code",
   "execution_count": 9,
   "id": "700061ef-490b-4868-b4ef-3e8ffbfa64fe",
   "metadata": {
    "tags": []
   },
   "outputs": [
    {
     "name": "stdout",
     "output_type": "stream",
     "text": [
      "updated security groups: ['allow-8000', 'allow-8888', 'allow-9000', 'allow-9001', 'allow-ssh', 'default']\n"
     ]
    }
   ],
   "source": [
    "# configure openstacksdk for actions unsupported by python-chi\n",
    "os_conn = chi.clients.connection()\n",
    "nova_server = chi.nova().servers.get(s.id)\n",
    "\n",
    "for sg in security_groups:\n",
    "\n",
    "  if not os_conn.get_security_group(sg['name']):\n",
    "      os_conn.create_security_group(sg['name'], sg['description'])\n",
    "      os_conn.create_security_group_rule(sg['name'], port_range_min=sg['port'], port_range_max=sg['port'], protocol='tcp', remote_ip_prefix='0.0.0.0/0')\n",
    "\n",
    "  nova_server.add_security_group(sg['name'])\n",
    "\n",
    "print(f\"updated security groups: {[group.name for group in nova_server.list_security_group()]}\")"
   ]
  },
  {
   "cell_type": "code",
   "execution_count": 13,
   "id": "4328f442-a742-404b-8dc6-618360a6d277",
   "metadata": {
    "tags": []
   },
   "outputs": [
    {
     "name": "stdout",
     "output_type": "stream",
     "text": [
      "Checking connectivity to None port 22.\n"
     ]
    },
    {
     "data": {
      "application/vnd.jupyter.widget-view+json": {
       "model_id": "020821d0eb504472b5dff1182819e8af",
       "version_major": 2,
       "version_minor": 0
      },
      "text/plain": [
       "HBox(children=(Label(value=''), IntProgress(value=0, bar_style='success')))"
      ]
     },
     "metadata": {},
     "output_type": "display_data"
    },
    {
     "ename": "ResourceError",
     "evalue": "Waited too long for the port 22 on host None to start accepting connections.",
     "output_type": "error",
     "traceback": [
      "\u001b[0;31m---------------------------------------------------------------------------\u001b[0m",
      "\u001b[0;31mResourceError\u001b[0m                             Traceback (most recent call last)",
      "\u001b[0;32m/tmp/ipykernel_101/3548000226.py\u001b[0m in \u001b[0;36m<cell line: 2>\u001b[0;34m()\u001b[0m\n\u001b[1;32m      1\u001b[0m \u001b[0ms\u001b[0m\u001b[0;34m.\u001b[0m\u001b[0mrefresh\u001b[0m\u001b[0;34m(\u001b[0m\u001b[0;34m)\u001b[0m\u001b[0;34m\u001b[0m\u001b[0;34m\u001b[0m\u001b[0m\n\u001b[0;32m----> 2\u001b[0;31m \u001b[0ms\u001b[0m\u001b[0;34m.\u001b[0m\u001b[0mcheck_connectivity\u001b[0m\u001b[0;34m(\u001b[0m\u001b[0;34m)\u001b[0m\u001b[0;34m\u001b[0m\u001b[0;34m\u001b[0m\u001b[0m\n\u001b[0m",
      "\u001b[0;32m/opt/conda/lib/python3.10/site-packages/chi/server.py\u001b[0m in \u001b[0;36mcheck_connectivity\u001b[0;34m(self, wait, host, port, timeout, show)\u001b[0m\n\u001b[1;32m    512\u001b[0m             \u001b[0mres\u001b[0m \u001b[0;34m=\u001b[0m \u001b[0mpb\u001b[0m\u001b[0;34m.\u001b[0m\u001b[0mwait\u001b[0m\u001b[0;34m(\u001b[0m\u001b[0m_callback\u001b[0m\u001b[0;34m,\u001b[0m \u001b[0mtimeout\u001b[0m \u001b[0;34m*\u001b[0m \u001b[0;36m0.9\u001b[0m\u001b[0;34m,\u001b[0m \u001b[0mtimeout\u001b[0m\u001b[0;34m)\u001b[0m\u001b[0;34m\u001b[0m\u001b[0;34m\u001b[0m\u001b[0m\n\u001b[1;32m    513\u001b[0m             \u001b[0;32mif\u001b[0m \u001b[0;32mnot\u001b[0m \u001b[0mres\u001b[0m\u001b[0;34m:\u001b[0m\u001b[0;34m\u001b[0m\u001b[0;34m\u001b[0m\u001b[0m\n\u001b[0;32m--> 514\u001b[0;31m                 raise ResourceError(\n\u001b[0m\u001b[1;32m    515\u001b[0m                     (\n\u001b[1;32m    516\u001b[0m                         \u001b[0;34mf\"Waited too long for the port {port} on host {host} to \"\u001b[0m\u001b[0;34m\u001b[0m\u001b[0;34m\u001b[0m\u001b[0m\n",
      "\u001b[0;31mResourceError\u001b[0m: Waited too long for the port 22 on host None to start accepting connections."
     ]
    }
   ],
   "source": [
    "s.refresh()\n",
    "s.check_connectivity()"
   ]
  },
  {
   "cell_type": "markdown",
   "id": "2621ef8b-02d1-41e1-ac2c-9fd631389260",
   "metadata": {},
   "source": [
    "# Create Persistent Storage"
   ]
  },
  {
   "cell_type": "code",
   "execution_count": 19,
   "id": "da497fa1-ed6c-4539-b9e9-071b49307779",
   "metadata": {
    "tags": []
   },
   "outputs": [],
   "source": [
    "# get the Cinder Python client configured by python-chi\n",
    "cinder_client = chi.clients.cinder()"
   ]
  },
  {
   "cell_type": "code",
   "execution_count": 20,
   "id": "8c7c644e-1c02-4ec9-a3d2-5953e757ba35",
   "metadata": {
    "tags": []
   },
   "outputs": [
    {
     "data": {
      "text/plain": [
       "[<Volume: 7c5d0219-3559-4910-9fe2-d2e9f702c13b>,\n",
       " <Volume: 6bb3854b-244d-46c1-bd0d-3e22f9e364ef>,\n",
       " <Volume: 10798efb-e3f4-4410-a1f8-ee6d9ece5de9>,\n",
       " <Volume: e9d59d73-3c67-4aa6-ae52-07b2f6c5fd83>,\n",
       " <Volume: 6ecc51a4-93bf-4f11-8c96-84f86e1a1535>,\n",
       " <Volume: cf7bb2f1-e28f-4491-96f4-3e95f551d306>,\n",
       " <Volume: 0b4b905a-55c8-4327-8a7a-ccd29c0b0ac6>,\n",
       " <Volume: e087ee06-c76a-49b2-85f7-0d510e28f719>,\n",
       " <Volume: 6aaaca52-bbb6-4e7d-bdeb-0dd6da124928>,\n",
       " <Volume: d6add162-da8f-42c2-a9ff-42af5e245dad>,\n",
       " <Volume: 91e29152-ea3c-4663-a051-db6d04c91eca>,\n",
       " <Volume: 492d9a47-1c3b-48be-b78d-9620a3cb863c>,\n",
       " <Volume: a5932e82-cc78-4fb3-a01b-9bf280a0afc2>,\n",
       " <Volume: c2757059-dab7-4e7d-98bb-1a840a6ea2a6>,\n",
       " <Volume: 05bc8fd5-1078-4aaa-8a57-93449c2c14c5>,\n",
       " <Volume: 45778fe9-4530-43de-a16f-72a381c4776e>,\n",
       " <Volume: b80409e3-dcb0-499c-b66a-7348c061db69>,\n",
       " <Volume: fe4d66a5-86a7-4c10-b6e9-167cab29df77>,\n",
       " <Volume: a36de9d5-a9dc-443e-bb92-5f762e10d271>,\n",
       " <Volume: 3f015e6f-f6f7-47d3-bfdf-3fbe680870f0>,\n",
       " <Volume: 779b2fbb-a288-4577-9269-27d7ad5ecb69>,\n",
       " <Volume: 298d7da9-44fc-4a81-a945-ce16b081f956>,\n",
       " <Volume: 3ce79560-a483-449e-a09c-83ba5d6a7fab>,\n",
       " <Volume: 31dd0284-6d7b-46bc-acfe-f307728cae64>,\n",
       " <Volume: f731e841-66af-4f2b-b093-3a7cbf97042b>,\n",
       " <Volume: d71fd1e8-ee53-4adf-a072-f0deb2a554e4>,\n",
       " <Volume: 77084f56-c8f3-4bf4-913d-7e1e829e7192>,\n",
       " <Volume: 7ef1da1b-5907-448a-8066-7b1cdf5c5fd9>,\n",
       " <Volume: 585e1539-5492-4952-8a2d-005d79b90642>,\n",
       " <Volume: 7d4f3650-5d58-4145-9ddb-f3e0d40b6900>,\n",
       " <Volume: dfd2d2b2-74e0-483a-b9d8-9921ac812ae2>,\n",
       " <Volume: bed22804-0cac-411e-acd9-26e1c57c14ee>,\n",
       " <Volume: f72e72df-ad19-4fc0-889d-adbc2429257d>,\n",
       " <Volume: 7b912179-be43-4885-a4f5-5ec45b0dc818>,\n",
       " <Volume: c4ed1639-f1e4-47a0-a479-13c608fc8d75>,\n",
       " <Volume: b03ba482-4640-4971-a679-0997747653eb>,\n",
       " <Volume: 2570f380-b57e-43cc-bf84-45ea692390d8>,\n",
       " <Volume: 47592e8b-6b93-4bf4-9bc4-c5507dd10778>,\n",
       " <Volume: d7ebadae-09ab-49da-a8ae-e26ceb32b00a>,\n",
       " <Volume: 8d1ce767-270e-4832-bca4-e28d5df6bf10>,\n",
       " <Volume: 978b2db9-33ae-453b-b740-25986ff61ca0>,\n",
       " <Volume: 3dcf75c0-98d4-4879-9996-d0bb73f6616e>,\n",
       " <Volume: bc02ab32-face-47c3-9732-23235dea1773>,\n",
       " <Volume: 237aec08-5475-4980-bb1a-31574413b18f>,\n",
       " <Volume: cc7b28b6-f8ee-4fc4-bd08-ddabf6ece09d>,\n",
       " <Volume: 139400e1-0a10-4245-8aa6-dd5248c892d9>,\n",
       " <Volume: 58a9db0c-adb1-424e-bfc3-de59de7835ff>,\n",
       " <Volume: d79ea727-c418-44c5-99e4-da0e2bcbbd63>,\n",
       " <Volume: 231a399b-fc99-4fc0-96d2-65228312d91e>,\n",
       " <Volume: 071d4397-882c-4247-b06b-acf7ba3623d1>,\n",
       " <Volume: a285011a-0341-4e6f-a8e6-289b072979a2>,\n",
       " <Volume: 8c01565b-7ff3-40b9-b8e8-e4d1550864f9>,\n",
       " <Volume: f82ca11f-e219-4f3d-ba3e-5ba645f324d6>,\n",
       " <Volume: 2bd1dd5f-c764-4754-86cd-e3ee035773e7>,\n",
       " <Volume: af33a48e-32b5-45eb-82c6-afac75cfa2af>,\n",
       " <Volume: 069aa924-258c-407a-bcf3-f07d1676b6d5>,\n",
       " <Volume: 195970f4-c959-48d5-ad30-3b550f7f5b98>,\n",
       " <Volume: 80e7f891-4479-485b-9e17-b8b6718bfd27>,\n",
       " <Volume: 6b665497-a7c5-408b-a4f7-7ac3e81f8c0e>,\n",
       " <Volume: 7153c651-2757-45f9-99e0-9cbbace429f5>,\n",
       " <Volume: d68df71b-a6b3-4e97-b20e-d834cf80158e>,\n",
       " <Volume: db512c6d-15e6-4dd0-ade3-be42c7039b4a>,\n",
       " <Volume: 4164ae16-8ae8-4b88-b6fa-451e427a28e6>,\n",
       " <Volume: ac4f8bf6-162d-486b-b383-81956197aee8>,\n",
       " <Volume: f422ad62-1020-4832-9bce-b83725fc5651>,\n",
       " <Volume: 41a94a59-52b7-43bf-865d-a2c16abd0331>,\n",
       " <Volume: 0caea127-39ba-488e-8383-8472491f54cf>,\n",
       " <Volume: 0661285a-ab7c-4ecd-aed7-e706709e5907>,\n",
       " <Volume: c77e2b80-08db-4d80-8050-9cf5eb805667>,\n",
       " <Volume: 84ed6d40-8217-4131-bd40-151d4f6fc51a>,\n",
       " <Volume: e37d212e-870b-472b-a5c3-e3103e92c0bb>,\n",
       " <Volume: 44dbf9de-3455-4d35-9a56-5a4af009cab6>,\n",
       " <Volume: 8fb9a5ef-e9af-440f-a3d6-b6bcd1d4b857>,\n",
       " <Volume: 5d01c152-ecbf-496d-b8ad-eabc15cd5be6>,\n",
       " <Volume: d6a82d33-3eca-4dc0-bb11-d1cc83cd2dcf>,\n",
       " <Volume: 360db6a6-0cbc-41e8-abef-9be1c84bcb37>,\n",
       " <Volume: 7f9bb6b7-dd9e-45c2-b97a-65e6d01bcbca>,\n",
       " <Volume: 07680eb0-a073-48e8-b3b1-61aef49cd9c0>,\n",
       " <Volume: 0189c2f5-7a72-4738-a5b4-3741510dc472>,\n",
       " <Volume: 536c1556-cc0a-4a63-a319-06805f6bb6e3>,\n",
       " <Volume: 0bb7aa0d-de08-486e-88c0-e3117ac15364>,\n",
       " <Volume: 0bc2e7c4-b114-496f-8fc6-44f1a2b4509d>,\n",
       " <Volume: e2ecf177-9281-4e97-8b18-a3a69077efd7>,\n",
       " <Volume: 86a4bc70-8c79-41f3-9faa-1bfabe1df939>,\n",
       " <Volume: ed833b27-ce0a-4ed1-a073-804d5d4ffc84>,\n",
       " <Volume: f7ff76ae-dfbe-4327-a8a7-54edd6567786>,\n",
       " <Volume: b27aa1b8-5b64-4364-bcae-dc695b72d70b>,\n",
       " <Volume: 52811150-aa33-4402-8c12-c160a040b676>,\n",
       " <Volume: ade4a2f8-1d81-4fac-b81b-e4738e823c4a>,\n",
       " <Volume: 1463a5d3-152d-4af4-9cae-486e6a971f57>,\n",
       " <Volume: 3943562f-2b59-4cf4-af87-5ff551ab612e>,\n",
       " <Volume: e0434703-11ac-484b-b4da-27d189cbfbda>,\n",
       " <Volume: 1f08b529-0ef7-414b-822f-7ba11aa829f9>,\n",
       " <Volume: 30ebb83b-03c7-4678-9224-4fd3ed25a8ea>,\n",
       " <Volume: c640e5dd-2c8d-4cdc-a7ba-b8e432c6e813>,\n",
       " <Volume: de7a1f5f-ab1c-478f-a148-b989d0b995de>,\n",
       " <Volume: f1b4e47c-65ec-4a01-8b87-a4048c2cfc10>,\n",
       " <Volume: 63a05616-57eb-4ab6-9342-a0184ee9f12e>,\n",
       " <Volume: 42b1865a-6ff9-44ed-9f8d-8ca639f4b97c>,\n",
       " <Volume: 88deef3f-d6bf-42d8-a5cd-004e001b44bc>,\n",
       " <Volume: 7a2d8340-54f9-4537-8c1d-98fbaf0e53cb>,\n",
       " <Volume: 7c1742cb-befa-46c2-828f-a244193483bb>,\n",
       " <Volume: 3fc600c5-a867-41cf-b8fe-4d5c001a941f>,\n",
       " <Volume: 82886a3e-e66a-4332-8909-9c59fb3fd71d>,\n",
       " <Volume: 12cfa6d3-e922-4904-85dc-5f6b9c734a13>]"
      ]
     },
     "execution_count": 20,
     "metadata": {},
     "output_type": "execute_result"
    }
   ],
   "source": [
    "# list current volumes\n",
    "cinder_client.volumes.list()"
   ]
  },
  {
   "cell_type": "code",
   "execution_count": 21,
   "id": "aadc4e20-2960-4bfd-a881-ccc3e5a83533",
   "metadata": {
    "tags": []
   },
   "outputs": [
    {
     "data": {
      "text/plain": [
       "{'id': 'd2e7a58c-a3c1-42b6-8498-f12ef14e2b0c',\n",
       " 'status': 'creating',\n",
       " 'size': 20,\n",
       " 'availability_zone': 'nova',\n",
       " 'created_at': '2025-05-06T18:49:19.275755',\n",
       " 'updated_at': None,\n",
       " 'name': 'block-persist-python-project2',\n",
       " 'description': None,\n",
       " 'volume_type': 'ceph-hdd',\n",
       " 'snapshot_id': None,\n",
       " 'source_volid': None,\n",
       " 'metadata': {},\n",
       " 'links': [{'rel': 'self',\n",
       "   'href': 'https://kvm.tacc.chameleoncloud.org:8776/v3/89f528973fea4b3a981f9b2344e522de/volumes/d2e7a58c-a3c1-42b6-8498-f12ef14e2b0c'},\n",
       "  {'rel': 'bookmark',\n",
       "   'href': 'https://kvm.tacc.chameleoncloud.org:8776/89f528973fea4b3a981f9b2344e522de/volumes/d2e7a58c-a3c1-42b6-8498-f12ef14e2b0c'}],\n",
       " 'user_id': '3772a2b3c4c9ef99560c8940f7b8e754f6388a2d5f9c4f42691ed173013f8d3f',\n",
       " 'bootable': 'false',\n",
       " 'encrypted': False,\n",
       " 'replication_status': None,\n",
       " 'consistencygroup_id': None,\n",
       " 'multiattach': False,\n",
       " 'attachments': []}"
      ]
     },
     "execution_count": 21,
     "metadata": {},
     "output_type": "execute_result"
    }
   ],
   "source": [
    "# create a volume, specifying name and size in GiB\n",
    "volume = cinder_client.volumes.create(name=f\"block-persist-python-project2\", size = 20)\n",
    "volume._info"
   ]
  },
  {
   "cell_type": "code",
   "execution_count": 26,
   "id": "34910cc6-ee2a-4bc7-9695-8f9a92f14f49",
   "metadata": {
    "tags": []
   },
   "outputs": [],
   "source": [
    "server_id      = chi.server.get_server(f\"node-persist-mlops-project3\").id"
   ]
  },
  {
   "cell_type": "code",
   "execution_count": 27,
   "id": "f64f70e9-612b-4e8e-9dec-4c70839ea451",
   "metadata": {
    "tags": []
   },
   "outputs": [
    {
     "data": {
      "text/plain": [
       "<Volume: d2e7a58c-a3c1-42b6-8498-f12ef14e2b0c>"
      ]
     },
     "execution_count": 27,
     "metadata": {},
     "output_type": "execute_result"
    }
   ],
   "source": [
    "volume_manager = chi.nova().volumes\n",
    "volume_manager.create_server_volume(server_id = s.id, volume_id = volume.id)"
   ]
  },
  {
   "cell_type": "code",
   "execution_count": null,
   "id": "e8962587-e8ad-4f18-8038-ac9ab69859f3",
   "metadata": {},
   "outputs": [],
   "source": [
    "#volume_manager.delete_server_volume(server_id = s.id, volume_id = volume.id)"
   ]
  }
 ],
 "metadata": {
  "kernelspec": {
   "display_name": "Python 3 (ipykernel)",
   "language": "python",
   "name": "python3"
  },
  "language_info": {
   "codemirror_mode": {
    "name": "ipython",
    "version": 3
   },
   "file_extension": ".py",
   "mimetype": "text/x-python",
   "name": "python",
   "nbconvert_exporter": "python",
   "pygments_lexer": "ipython3",
   "version": "3.10.9"
  }
 },
 "nbformat": 4,
 "nbformat_minor": 5
}
